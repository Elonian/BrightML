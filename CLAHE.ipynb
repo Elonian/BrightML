{
  "nbformat": 4,
  "nbformat_minor": 0,
  "metadata": {
    "colab": {
      "provenance": []
    },
    "kernelspec": {
      "name": "python3",
      "display_name": "Python 3"
    },
    "language_info": {
      "name": "python"
    }
  },
  "cells": [
    {
      "cell_type": "code",
      "source": [
        "import os\n",
        "import math\n",
        "from skimage.util import img_as_ubyte"
      ],
      "metadata": {
        "id": "-4pQgxB6uxHu"
      },
      "execution_count": null,
      "outputs": []
    },
    {
      "cell_type": "code",
      "source": [
        "def calculate_psnr(img1, img2, border=0):\n",
        "    if not img1.shape == img2.shape:\n",
        "        raise ValueError('Input images must have the same dimensions.')\n",
        "    h, w = img1.shape[:2]\n",
        "    img1 = img1[border:h - border, border:w - border]\n",
        "    img2 = img2[border:h - border, border:w - border]\n",
        "\n",
        "    img1 = img1.astype(np.float64)\n",
        "    img2 = img2.astype(np.float64)\n",
        "    mse = np.mean((img1 - img2)**2)\n",
        "    if mse == 0:\n",
        "        return float('inf')\n",
        "    return 20 * math.log10(255.0 / math.sqrt(mse))\n",
        "\n",
        "\n",
        "def calculate_ssim(img1, img2, border=0):\n",
        "\n",
        "    if not img1.shape == img2.shape:\n",
        "        raise ValueError('Input images must have the same dimensions.')\n",
        "    h, w = img1.shape[:2]\n",
        "    img1 = img1[border:h - border, border:w - border]\n",
        "    img2 = img2[border:h - border, border:w - border]\n",
        "\n",
        "    if img1.ndim == 2:\n",
        "        return ssim(img1, img2)\n",
        "    elif img1.ndim == 3:\n",
        "        if img1.shape[2] == 3:\n",
        "            ssims = []\n",
        "            for i in range(3):\n",
        "                ssims.append(ssim(img1[:, :, i], img2[:, :, i]))\n",
        "            return np.array(ssims).mean()\n",
        "        elif img1.shape[2] == 1:\n",
        "            return ssim(np.squeeze(img1), np.squeeze(img2))\n",
        "    else:\n",
        "        raise ValueError('Wrong input image dimensions.')\n",
        "\n",
        "\n",
        "def ssim(img1, img2):\n",
        "    C1 = (0.01 * 255)**2\n",
        "    C2 = (0.03 * 255)**2\n",
        "\n",
        "    img1 = img1.astype(np.float64)\n",
        "    img2 = img2.astype(np.float64)\n",
        "    kernel = cv2.getGaussianKernel(11, 1.5)\n",
        "    window = np.outer(kernel, kernel.transpose())\n",
        "\n",
        "    mu1 = cv2.filter2D(img1, -1, window)[5:-5, 5:-5]\n",
        "    mu2 = cv2.filter2D(img2, -1, window)[5:-5, 5:-5]\n",
        "    mu1_sq = mu1**2\n",
        "    mu2_sq = mu2**2\n",
        "    mu1_mu2 = mu1 * mu2\n",
        "    sigma1_sq = cv2.filter2D(img1**2, -1, window)[5:-5, 5:-5] - mu1_sq\n",
        "    sigma2_sq = cv2.filter2D(img2**2, -1, window)[5:-5, 5:-5] - mu2_sq\n",
        "    sigma12 = cv2.filter2D(img1 * img2, -1, window)[5:-5, 5:-5] - mu1_mu2\n",
        "\n",
        "    ssim_map = ((2 * mu1_mu2 + C1) * (2 * sigma12 + C2)) / ((mu1_sq + mu2_sq + C1) *\n",
        "                                                            (sigma1_sq + sigma2_sq + C2))\n",
        "    return ssim_map.mean()"
      ],
      "metadata": {
        "id": "RLDnmvsxv7pl"
      },
      "execution_count": null,
      "outputs": []
    },
    {
      "cell_type": "code",
      "execution_count": null,
      "metadata": {
        "colab": {
          "base_uri": "https://localhost:8080/"
        },
        "id": "VQgVL7jcBT8f",
        "outputId": "359377ab-39f4-486c-c376-da58463e9766"
      },
      "outputs": [
        {
          "output_type": "stream",
          "name": "stdout",
          "text": [
            "PSNR: 9.530158 \n",
            "SSIM: 0.374065 \n"
          ]
        }
      ],
      "source": [
        "import cv2\n",
        "import numpy as np\n",
        "import matplotlib.pyplot as plt\n",
        "\n",
        "def apply_clahe(image_path, clip_limit=2.0, tile_grid_size=(8, 8)):\n",
        "    img = cv2.imread(image_path, cv2.IMREAD_GRAYSCALE)\n",
        "    if img is None:\n",
        "        print(\"Error: Image not found!\")\n",
        "        return None\n",
        "    clahe = cv2.createCLAHE(clipLimit=clip_limit, tileGridSize=tile_grid_size)\n",
        "    clahe_img = clahe.apply(img)\n",
        "\n",
        "    return clahe_img\n",
        "\n",
        "def apply_clahe_color(image_path, clip_limit=2.0, tile_grid_size=(8, 8)):\n",
        "    img = cv2.imread(image_path)\n",
        "    if img is None:\n",
        "        print(\"Error: Image not found!\")\n",
        "        return None\n",
        "    lab_img = cv2.cvtColor(img, cv2.COLOR_BGR2LAB)\n",
        "    l, a, b = cv2.split(lab_img)\n",
        "    clahe = cv2.createCLAHE(clipLimit=clip_limit, tileGridSize=tile_grid_size)\n",
        "    l = clahe.apply(l)\n",
        "    lab_img = cv2.merge((l, a, b))\n",
        "    clahe_img = cv2.cvtColor(lab_img, cv2.COLOR_LAB2BGR)\n",
        "\n",
        "    return clahe_img\n",
        "\n",
        "def apply_clahe_hsi(image_path, clip_limit=2.0, tile_grid_size=(8, 8)):\n",
        "    img = cv2.imread(image_path)\n",
        "    if img is None:\n",
        "        print(\"Error: Image not found!\")\n",
        "        return None\n",
        "    hsi_img = cv2.cvtColor(img, cv2.COLOR_BGR2HSV)\n",
        "    h, s, v = cv2.split(hsi_img)\n",
        "    clahe = cv2.createCLAHE(clipLimit=clip_limit, tileGridSize=tile_grid_size)\n",
        "    v = clahe.apply(v)\n",
        "    hsi_img = cv2.merge((h, s, v))\n",
        "    clahe_img = cv2.cvtColor(hsi_img, cv2.COLOR_HSV2RGB)\n",
        "    return clahe_img\n",
        "\n",
        "def display_images(input_image, output_image):\n",
        "\n",
        "    # Display the stacked images\n",
        "    plt.figure(figsize=(10, 5))\n",
        "    plt.imshow(input_image)\n",
        "    plt.title('Original Image')\n",
        "    plt.axis('off')\n",
        "    plt.show()\n",
        "\n",
        "    plt.figure(figsize=(10, 5))\n",
        "    plt.imshow(output_image)\n",
        "    plt.title('CLAHE Image')\n",
        "    plt.axis('off')\n",
        "    plt.show()\n",
        "\n",
        "def main(image_path,target_path,output_path,psnr_values,ssim_values):\n",
        "    # clahe_img = apply_clahe(image_path)\n",
        "    clahe_img = apply_clahe_hsi(image_path)\n",
        "\n",
        "    if clahe_img is not None:\n",
        "        original_img = cv2.imread(image_path)\n",
        "        original_img=cv2.cvtColor(original_img, cv2.COLOR_BGR2RGB)\n",
        "\n",
        "        target_img = cv2.imread(target_path)\n",
        "        target_img=cv2.cvtColor(target_img, cv2.COLOR_BGR2RGB)\n",
        "        # display_images(original_img, clahe_img)\n",
        "        psnr_values.append(calculate_psnr(target_img, clahe_img))\n",
        "        ssim_values.append(calculate_ssim(img_as_ubyte(target_img), img_as_ubyte(clahe_img)))\n",
        "\n",
        "        # output_image_path = '/content/drive/MyDrive/CLAHE_Output/clahe_output.png'\n",
        "        cv2.imwrite(output_path, cv2.cvtColor(clahe_img, cv2.COLOR_BGR2RGB))\n",
        "        # print(f\"Output image saved as {output_image_path}\")\n",
        "\n",
        "# Run the main function with your image file path\n",
        "if __name__ == \"__main__\":\n",
        "    # input_image_path = '1.png'\n",
        "    # input_directory='/content/drive/MyDrive/Retinexformer-master/data/NTIRE/mini_val/input/'\n",
        "    input_directory='/content/drive/MyDrive/Retinexformer-master/basicsr/models/archs/LLFormer_input/'\n",
        "    target_directory='/content/drive/MyDrive/Retinexformer-master/basicsr/models/archs/LLFormer_target/'\n",
        "    # target_directory='/content/drive/MyDrive/Retinexformer-master/data/NTIRE/mini_val/target/'\n",
        "    output_directory='/content/drive/MyDrive/CLAHE_Output/LLFormer_output'\n",
        "    psnr_values = []\n",
        "    ssim_values = []\n",
        "    for filename in os.listdir(input_directory):\n",
        "        if filename.endswith(('.png')):\n",
        "            image_path = os.path.join(input_directory, filename)\n",
        "            target_path = os.path.join(target_directory, filename)\n",
        "            output_path = os.path.join(output_directory, filename)\n",
        "            main(image_path,target_path,output_path,psnr_values,ssim_values)\n",
        "    psnr_values = np.mean(np.array(psnr_values))\n",
        "    ssim_values = np.mean(np.array(ssim_values))\n",
        "    print(\"PSNR: %f \" % (psnr_values))\n",
        "    print(\"SSIM: %f \" % (ssim_values))"
      ]
    },
    {
      "cell_type": "code",
      "source": [
        "!ls"
      ],
      "metadata": {
        "colab": {
          "base_uri": "https://localhost:8080/"
        },
        "id": "Rmbd6OJsuVUm",
        "outputId": "f623bf3b-0477-4c7c-b47d-75913b0a4c2e"
      },
      "execution_count": null,
      "outputs": [
        {
          "output_type": "stream",
          "name": "stdout",
          "text": [
            "1.png  clahe_output.png  drive\tsample_data\n"
          ]
        }
      ]
    }
  ]
}